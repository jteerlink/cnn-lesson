{
 "cells": [
  {
   "cell_type": "code",
   "execution_count": 1,
   "id": "bd7d7765-6dd7-42ab-89c0-605715511399",
   "metadata": {},
   "outputs": [],
   "source": [
    "from keras.applications import EfficientNetB0\n",
    "from keras.applications.efficientnet import preprocess_input\n",
    "from keras.layers import Input, GlobalAveragePooling2D, Dense\n",
    "from keras.models import Model\n",
    "from keras.utils import to_categorical\n",
    "from sklearn.model_selection import train_test_split\n",
    "import tensorflow as tf"
   ]
  },
  {
   "cell_type": "code",
   "execution_count": 2,
   "id": "18d98998-54b9-4ece-a3ce-52f952fcf596",
   "metadata": {},
   "outputs": [],
   "source": [
    "from keras.datasets import cifar10\n",
    "import numpy as np\n",
    "import cv2\n",
    "\n",
    "# Load data\n",
    "(x_train, y_train), (x_test, y_test) = cifar10.load_data()\n",
    "\n",
    "# Resize images to 224x224 and preprocess\n",
    "x_train = np.array([cv2.resize(img, (224, 224)) for img in x_train])\n",
    "x_test = np.array([cv2.resize(img, (224, 224)) for img in x_test])\n",
    "\n",
    "# Normalize using EfficientNet's preprocessing\n",
    "x_train = preprocess_input(x_train)\n",
    "x_test = preprocess_input(x_test)\n",
    "\n",
    "# One-hot encode labels\n",
    "y_train = to_categorical(y_train, 10)\n",
    "y_test = to_categorical(y_test, 10)\n",
    "\n",
    "# Create validation split\n",
    "x_train, x_val, y_train, y_val = train_test_split(\n",
    "    x_train, y_train, test_size=0.1, random_state=42\n",
    ")"
   ]
  },
  {
   "cell_type": "code",
   "execution_count": 3,
   "id": "1df839d0-40d2-41c4-ae28-80ffab036128",
   "metadata": {},
   "outputs": [
    {
     "name": "stdout",
     "output_type": "stream",
     "text": [
      "Downloading data from https://storage.googleapis.com/keras-applications/efficientnetb0_notop.h5\n",
      "\u001b[1m16705208/16705208\u001b[0m \u001b[32m━━━━━━━━━━━━━━━━━━━━\u001b[0m\u001b[37m\u001b[0m \u001b[1m1s\u001b[0m 0us/step\n"
     ]
    }
   ],
   "source": [
    "base_model = EfficientNetB0(\n",
    "    include_top=False,\n",
    "    weights='imagenet',\n",
    "    input_tensor=Input(shape=(224, 224, 3))\n",
    ")\n",
    "\n",
    "base_model.trainable = False  # Freeze base layers initially"
   ]
  },
  {
   "cell_type": "code",
   "execution_count": 4,
   "id": "7ad5ec1e-1dea-4864-9ad2-d42c32d3c6be",
   "metadata": {},
   "outputs": [],
   "source": [
    "x = base_model.output\n",
    "x = GlobalAveragePooling2D()(x)\n",
    "x = Dense(128, activation='relu')(x)\n",
    "outputs = Dense(10, activation='softmax')(x)\n",
    "\n",
    "model = Model(inputs=base_model.input, outputs=outputs)"
   ]
  },
  {
   "cell_type": "code",
   "execution_count": 5,
   "id": "8f21a67a-f971-47c4-8095-5ad806a84fe1",
   "metadata": {},
   "outputs": [
    {
     "name": "stdout",
     "output_type": "stream",
     "text": [
      "Epoch 1/5\n"
     ]
    },
    {
     "name": "stderr",
     "output_type": "stream",
     "text": [
      "/opt/anaconda3/envs/cnn/lib/python3.9/site-packages/keras/src/models/functional.py:225: UserWarning: The structure of `inputs` doesn't match the expected structure: ['keras_tensor']. Received: the structure of inputs=*\n",
      "  warnings.warn(\n"
     ]
    },
    {
     "name": "stdout",
     "output_type": "stream",
     "text": [
      "1407/1407 - 657s - 467ms/step - accuracy: 0.8677 - loss: 0.3947 - val_accuracy: 0.9024 - val_loss: 0.2780\n",
      "Epoch 2/5\n",
      "1407/1407 - 681s - 484ms/step - accuracy: 0.9019 - loss: 0.2826 - val_accuracy: 0.9094 - val_loss: 0.2600\n",
      "Epoch 3/5\n",
      "1407/1407 - 696s - 495ms/step - accuracy: 0.9160 - loss: 0.2418 - val_accuracy: 0.9112 - val_loss: 0.2444\n",
      "Epoch 4/5\n",
      "1407/1407 - 4198s - 3s/step - accuracy: 0.9251 - loss: 0.2118 - val_accuracy: 0.9146 - val_loss: 0.2337\n",
      "Epoch 5/5\n",
      "1407/1407 - 5676s - 4s/step - accuracy: 0.9332 - loss: 0.1884 - val_accuracy: 0.9162 - val_loss: 0.2470\n"
     ]
    }
   ],
   "source": [
    "model.compile(optimizer='adam',\n",
    "              loss='categorical_crossentropy',\n",
    "              metrics=['accuracy'])\n",
    "\n",
    "history = model.fit(\n",
    "    x_train, y_train,\n",
    "    validation_data=(x_val, y_val),\n",
    "    epochs=5,\n",
    "    batch_size=32,\n",
    "    verbose=2\n",
    ")"
   ]
  },
  {
   "cell_type": "code",
   "execution_count": 6,
   "id": "b260b594-4d65-4396-b55e-fcf9bad154ae",
   "metadata": {},
   "outputs": [
    {
     "name": "stdout",
     "output_type": "stream",
     "text": [
      "Test accuracy: 0.9073\n"
     ]
    }
   ],
   "source": [
    "test_loss, test_acc = model.evaluate(x_test, y_test, verbose=0)\n",
    "print(f\"Test accuracy: {test_acc:.4f}\")"
   ]
  },
  {
   "cell_type": "code",
   "execution_count": 7,
   "id": "d4cea338-680d-42a9-9903-b9c3a40ee16c",
   "metadata": {},
   "outputs": [
    {
     "name": "stdout",
     "output_type": "stream",
     "text": [
      "Epoch 1/3\n",
      "1407/1407 - 11480s - 8s/step - accuracy: 0.7994 - loss: 0.6166 - val_accuracy: 0.8850 - val_loss: 0.3359\n",
      "Epoch 2/3\n",
      "1407/1407 - 23754s - 17s/step - accuracy: 0.8856 - loss: 0.3391 - val_accuracy: 0.9130 - val_loss: 0.2536\n",
      "Epoch 3/3\n",
      "1407/1407 - 17467s - 12s/step - accuracy: 0.9101 - loss: 0.2653 - val_accuracy: 0.9278 - val_loss: 0.2085\n"
     ]
    },
    {
     "data": {
      "text/plain": [
       "<keras.src.callbacks.history.History at 0x305fb3e20>"
      ]
     },
     "execution_count": 7,
     "metadata": {},
     "output_type": "execute_result"
    }
   ],
   "source": [
    "base_model.trainable = True  # Unfreeze all layers (or select a range)\n",
    "\n",
    "model.compile(optimizer=tf.keras.optimizers.Adam(1e-5),  # Lower LR\n",
    "              loss='categorical_crossentropy',\n",
    "              metrics=['accuracy'])\n",
    "\n",
    "model.fit(x_train, y_train,\n",
    "          validation_data=(x_val, y_val),\n",
    "          epochs=3,\n",
    "          batch_size=32,\n",
    "          verbose=2)"
   ]
  },
  {
   "cell_type": "code",
   "execution_count": 9,
   "id": "06e246e9-32f1-4619-9a8b-3c3452b0636c",
   "metadata": {},
   "outputs": [
    {
     "data": {
      "text/plain": [
       "191.33333333333334"
      ]
     },
     "execution_count": 9,
     "metadata": {},
     "output_type": "execute_result"
    }
   ],
   "source": [
    "11480/60\n"
   ]
  },
  {
   "cell_type": "code",
   "execution_count": null,
   "id": "6fce9955-6dca-47f1-aadb-9d7f51dcd8a9",
   "metadata": {},
   "outputs": [],
   "source": []
  }
 ],
 "metadata": {
  "kernelspec": {
   "display_name": "cnn",
   "language": "python",
   "name": "cnn"
  },
  "language_info": {
   "codemirror_mode": {
    "name": "ipython",
    "version": 3
   },
   "file_extension": ".py",
   "mimetype": "text/x-python",
   "name": "python",
   "nbconvert_exporter": "python",
   "pygments_lexer": "ipython3",
   "version": "3.9.21"
  }
 },
 "nbformat": 4,
 "nbformat_minor": 5
}
